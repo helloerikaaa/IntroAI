{
 "cells": [
  {
   "cell_type": "markdown",
   "metadata": {},
   "source": [
    "### Importación de Bibliotecas"
   ]
  },
  {
   "cell_type": "code",
   "execution_count": 1,
   "metadata": {},
   "outputs": [],
   "source": [
    "import numpy as np"
   ]
  },
  {
   "cell_type": "markdown",
   "metadata": {},
   "source": [
    "### Definición de la clase Perceptron"
   ]
  },
  {
   "cell_type": "code",
   "execution_count": 2,
   "metadata": {},
   "outputs": [],
   "source": [
    "class Perceptron:\n",
    "    def __init__(self, num_inputs, learning_rate=0.1):\n",
    "        # Se inicializan los pesos y el bias con valores aleatorios\n",
    "        self.weights = np.random.rand(num_inputs)\n",
    "        self.bias = np.random.rand()\n",
    "        # La tasa de aprendizaje\n",
    "        self.learning_rate = learning_rate\n",
    "\n",
    "    def activation(self, weighted_sum):\n",
    "        # Función de escalón como función de activación\n",
    "        return 1 if weighted_sum >= 0 else 0\n",
    "\n",
    "    def predict(self, inputs):\n",
    "        # Calcula la suma ponderada de la entrada y los pesos\n",
    "        weighted_sum = np.dot(inputs, self.weights) + self.bias\n",
    "\n",
    "        # Aplica la función de activación y regresa la salida\n",
    "        return self.activation(weighted_sum)\n",
    "\n",
    "    def train(self, training_data, num_epochs):\n",
    "        # Ejecuta el ciclo de épocas\n",
    "        for _ in range(num_epochs):\n",
    "            for inputs, target in training_data:\n",
    "                # Hace las predicciones\n",
    "                prediction = self.predict(inputs)\n",
    "\n",
    "                # Actualiza los pesos y el bias, basándose en el error\n",
    "                error = target - prediction\n",
    "                self.weights += self.learning_rate * error * inputs\n",
    "                self.bias += self.learning_rate * error"
   ]
  },
  {
   "cell_type": "code",
   "execution_count": 3,
   "metadata": {},
   "outputs": [],
   "source": [
    "# Crea un Perceptrón con 2 entradas\n",
    "perceptron = Perceptron(num_inputs=2, learning_rate=0.1)"
   ]
  },
  {
   "cell_type": "code",
   "execution_count": 4,
   "metadata": {},
   "outputs": [],
   "source": [
    "# Define los datos de entrada\n",
    "training_data = [\n",
    "    (np.array([0, 0]), 0),\n",
    "    (np.array([0, 1]), 0),\n",
    "    (np.array([1, 0]), 0),\n",
    "    (np.array([1, 1]), 1),\n",
    "]"
   ]
  },
  {
   "cell_type": "code",
   "execution_count": 5,
   "metadata": {},
   "outputs": [],
   "source": [
    "# Entrena con 100 épocas\n",
    "perceptron.train(training_data, num_epochs=100)"
   ]
  },
  {
   "cell_type": "code",
   "execution_count": 6,
   "metadata": {},
   "outputs": [
    {
     "name": "stdout",
     "output_type": "stream",
     "text": [
      "Entrada: [0 0], Predicción: 0\n",
      "Entrada: [0 1], Predicción: 0\n",
      "Entrada: [1 0], Predicción: 0\n",
      "Entrada: [1 1], Predicción: 1\n"
     ]
    }
   ],
   "source": [
    "# Hace la prueba de la predicción\n",
    "for inputs, _ in training_data:\n",
    "    prediction = perceptron.predict(inputs)\n",
    "    print(f\"Entrada: {inputs}, Predicción: {prediction}\")"
   ]
  }
 ],
 "metadata": {
  "kernelspec": {
   "display_name": "IntroAI-AhNqDoAu",
   "language": "python",
   "name": "python3"
  },
  "language_info": {
   "codemirror_mode": {
    "name": "ipython",
    "version": 3
   },
   "file_extension": ".py",
   "mimetype": "text/x-python",
   "name": "python",
   "nbconvert_exporter": "python",
   "pygments_lexer": "ipython3",
   "version": "3.8.6"
  }
 },
 "nbformat": 4,
 "nbformat_minor": 2
}
